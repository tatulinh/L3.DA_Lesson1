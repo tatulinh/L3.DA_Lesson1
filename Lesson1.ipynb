{
 "cells": [
  {
   "cell_type": "code",
   "execution_count": 2,
   "id": "initial_id",
   "metadata": {
    "collapsed": true,
    "jupyter": {
     "is_executing": true
    }
   },
   "outputs": [],
   "source": [
    "# nhập vào 2 số nguyên a và b\n",
    "# tính tổng 2 số trên\n",
    "# in kết quả ra màn hình"
   ]
  },
  {
   "cell_type": "code",
   "execution_count": 3,
   "id": "dfb4cff8209bc9f8",
   "metadata": {
    "jupyter": {
     "is_executing": true
    }
   },
   "outputs": [
    {
     "data": {
      "text/plain": [
       "5"
      ]
     },
     "execution_count": 3,
     "metadata": {},
     "output_type": "execute_result"
    }
   ],
   "source": [
    "a = int(input(\"nhap so nguyen a\"))\n",
    "b = int(input(\"nhap so nguyen b\"))\n",
    "\n",
    "tong = a + b\n",
    "tong"
   ]
  },
  {
   "cell_type": "code",
   "execution_count": 4,
   "id": "15d0ed5e32feecd9",
   "metadata": {},
   "outputs": [
    {
     "name": "stdout",
     "output_type": "stream",
     "text": [
      "Tong a va b la 7\n"
     ]
    }
   ],
   "source": [
    "a = int(input('Nhap so a: '))\n",
    "b = int(input('Nhap so b: '))\n",
    "print('Tong a va b la', a+b)"
   ]
  },
  {
   "cell_type": "code",
   "execution_count": null,
   "id": "7a1868110b7292f5",
   "metadata": {},
   "outputs": [],
   "source": [
    "# nhập vào 3 điểm toán văn anh của học sinh\n",
    "# tính điểm trung bình của học sinh đó, biết điểm trung bình bằng trung bình cộng của toán * 2 + văn * 2 + anh\n",
    "# in ra kết quả điểm trung bình trên"
   ]
  },
  {
   "cell_type": "code",
   "execution_count": 8,
   "id": "54599de9bce9aa4",
   "metadata": {
    "ExecuteTime": {
     "end_time": "2025-07-01T12:58:18.214853Z",
     "start_time": "2025-07-01T12:58:13.618862Z"
    }
   },
   "outputs": [
    {
     "name": "stdout",
     "output_type": "stream",
     "text": [
      "tb\n"
     ]
    }
   ],
   "source": [
    "toan = float(input(\"toan\"))\n",
    "van = float(input(\"van\"))\n",
    "anh = float(input(\"anh\"))\n",
    "\n",
    "diem_tb = (toan*2 + van*2 + anh)/5\n",
    "\n",
    "diem_tb\n",
    "if diem_tb > 8:\n",
    "    print('gioi')\n",
    "elif diem_tb > 6.5:\n",
    "    print('kha')\n",
    "elif diem_tb > 5:\n",
    "    print('tb')\n",
    "else:\n",
    "    print('yeu')\n",
    "\n",
    "\n"
   ]
  },
  {
   "cell_type": "markdown",
   "id": "c821a9dd2bcc8be2",
   "metadata": {},
   "source": [
    "# **VÒNG LẶP VÀ HÀM**"
   ]
  },
  {
   "cell_type": "markdown",
   "id": "e745d14e902342fa",
   "metadata": {},
   "source": [
    "\n",
    "## 1. Tìm hiểu về range() , len()"
   ]
  },
  {
   "cell_type": "code",
   "execution_count": null,
   "id": "a5bfe975b014fd64",
   "metadata": {},
   "outputs": [],
   "source": [
    "# 1.1 Hàm range() : khoang. Trả về một đối tượng, thường được sử dụng để tạo ra một chuỗi số nguyên liên tiếp.\n",
    "\n",
    "# Cú pháp:\n",
    "# range(start, stop, step). Trong đó:\n",
    "# start: số bắt đầu, mặc định là 0.\n",
    "# Stop: số kết thúc. range(0,10,1)   BẮT BUỘC PHẢI NHẬP\n",
    "# Step: bước nhảy, mặc định là 1.\n"
   ]
  },
  {
   "cell_type": "code",
   "execution_count": null,
   "id": "7f4b7bd2a7c01566",
   "metadata": {},
   "outputs": [],
   "source": [
    "# Các lưu ý đối với hàm range()\n",
    "# Lưu ý 1 : range() tạo ra một đối tượng \"range\" trong python.\n",
    "# Nếu muốn hiện thị các giá trị ta có thể dùng list() hoặc for.\n",
    "# Ví dụ 1 : range(start, stop, step) # stop -1\n",
    "\n",
    "a = range(0,6,1) # Tạo ra một chuỗi số từ 0 đến 5 (stop - 1)\n",
    "# a biến : = gán giá trị\n",
    "# 0 : Start\n",
    "# 6 : Stop\n",
    "# 1 : Step\n",
    "print(a)\n",
    "print(list(a))\n"
   ]
  },
  {
   "cell_type": "code",
   "execution_count": null,
   "id": "c273abb299104382",
   "metadata": {
    "ExecuteTime": {
     "end_time": "2025-07-01T13:09:28.415434Z",
     "start_time": "2025-07-01T13:09:28.410440Z"
    }
   },
   "outputs": [
    {
     "name": "stdout",
     "output_type": "stream",
     "text": [
      "0 1 2 3 4 5 6 7 8 9 10 11 12 13 14 15 16 17 18 19 20 "
     ]
    }
   ],
   "source": [
    "# 1 / Thực hành in ra màn hình danh sách các số từ 1 - 20 : for\n",
    "\n",
    "# 2 / Thực hành in ra màn hình danh sách các số chẵn trong phạm vi từ 1 - 20\n",
    "\n",
    "# for bienlap in range(....):\n",
    "#   print(bienlap)\n",
    "# range + for\n",
    "i = 1\n",
    "for i in range(0,21):\n",
    "    print(i, end=' ')"
   ]
  },
  {
   "cell_type": "code",
   "execution_count": 21,
   "id": "829ca1c8c261acd7",
   "metadata": {
    "ExecuteTime": {
     "end_time": "2025-07-01T13:09:36.233788Z",
     "start_time": "2025-07-01T13:09:36.230917Z"
    }
   },
   "outputs": [
    {
     "name": "stdout",
     "output_type": "stream",
     "text": [
      "0 2 4 6 8 10 12 14 16 18 20 "
     ]
    }
   ],
   "source": [
    "# chia hết cho 2\n",
    "\n",
    "for i in range(0,21):\n",
    "    if i % 2 == 0:\n",
    "        print(i,end=' ')"
   ]
  },
  {
   "cell_type": "code",
   "execution_count": 22,
   "id": "4739472b5408597d",
   "metadata": {
    "ExecuteTime": {
     "end_time": "2025-07-01T13:09:40.689650Z",
     "start_time": "2025-07-01T13:09:40.685088Z"
    }
   },
   "outputs": [
    {
     "name": "stdout",
     "output_type": "stream",
     "text": [
      "3 6 9 12 15 18 "
     ]
    }
   ],
   "source": [
    "# Thực hành in ra màn hình danh sách các số chia hết cho 3 trong phạm vi từ 1 - 20\n",
    "\n",
    "for i in range(1,21):\n",
    "    if i % 3 == 0:\n",
    "        print(i,end=' ')"
   ]
  },
  {
   "cell_type": "code",
   "execution_count": 28,
   "id": "846291ae93caf249",
   "metadata": {
    "ExecuteTime": {
     "end_time": "2025-07-01T13:19:15.042223Z",
     "start_time": "2025-07-01T13:19:15.039256Z"
    }
   },
   "outputs": [
    {
     "name": "stdout",
     "output_type": "stream",
     "text": [
      "Giá trị tổng của danh sách là: 69\n"
     ]
    }
   ],
   "source": [
    "my_list = [10,35,24]\n",
    "tong = 0\n",
    "\n",
    "for i in my_list:\n",
    "   tong = tong + i # tong += i\n",
    "\n",
    "print('Giá trị tổng của danh sách là:', tong)\n",
    "\n",
    "# vòng lặp số 1: i = 10, tong = 0 + 10 = 10\n",
    "# vòng lặp số 2: i = 35, tong = 10 + 35 = 45\n",
    "# vòng lặp số 3: i = 24, tong = 45 + 24 = 69"
   ]
  },
  {
   "cell_type": "code",
   "execution_count": null,
   "id": "ee0042713d2fc988",
   "metadata": {
    "jupyter": {
     "is_executing": true
    }
   },
   "outputs": [],
   "source": [
    "# Tính tổng của danh sách dưới đây với điều kiện index là số chẵn.\n",
    "\n",
    "# GIÁ TRỊ CỦA PHẦN TỬ ĐANG GIỮ INDEX CHẴN NẾU XÉT TỪ TRÁI SANG PHẢI\n",
    "\n",
    "my_list = [1,3,5,6,7]\n",
    "\n",
    "tong = 0\n",
    "for i in range(0, len(my_list) , 2):\n",
    "  tong = tong + my_list[i]\n",
    "print(tong)"
   ]
  },
  {
   "cell_type": "markdown",
   "id": "46134253b9ce9b6b",
   "metadata": {},
   "source": [
    "Khởi tạo:\n",
    "\n",
    "my_list = [1, 3, 5, 6, 7]\n",
    "tong = 0\n",
    "Vòng lặp for:\n",
    "\n",
    "range(0, len(my_list), 2) tạo ra các chỉ số 0, 2, 4.\n",
    "Lần lặp 1:\n",
    "\n",
    "i = 0\n",
    "my_list[0] = 1\n",
    "tong = 0 + 1 = 1\n",
    "Lần lặp 2:\n",
    "\n",
    "i = 2\n",
    "my_list[2] = 5\n",
    "tong = 1 + 5 = 6\n",
    "Lần lặp 3:\n",
    "\n",
    "i = 4\n",
    "my_list[4] = 7\n",
    "tong = 6 + 7 = 13\n",
    "Kết quả: Sau khi vòng lặp kết thúc, tong = 13. Chương trình in ra: 13."
   ]
  },
  {
   "cell_type": "markdown",
   "id": "154ddacaf79cd26d",
   "metadata": {},
   "source": [
    "\n",
    "## 3. Vòng lặp while"
   ]
  },
  {
   "cell_type": "code",
   "execution_count": 5,
   "id": "ef8b9a3475ef733c",
   "metadata": {
    "jupyter": {
     "is_executing": true
    }
   },
   "outputs": [
    {
     "name": "stdout",
     "output_type": "stream",
     "text": [
      "0\n",
      "1\n",
      "2\n",
      "3\n",
      "4\n"
     ]
    }
   ],
   "source": [
    "\n",
    "i = 0\n",
    "while i < 5:\n",
    "  print(i)\n",
    "  i += 1\n"
   ]
  },
  {
   "cell_type": "code",
   "execution_count": 6,
   "id": "4631e4f9d24aeda8",
   "metadata": {
    "jupyter": {
     "is_executing": true
    }
   },
   "outputs": [
    {
     "name": "stdout",
     "output_type": "stream",
     "text": [
      "0\n",
      "2\n",
      "4\n",
      "6\n",
      "8\n",
      "10\n",
      "12\n",
      "14\n",
      "16\n",
      "18\n"
     ]
    }
   ],
   "source": [
    "# Thực hành in ra màn hình danh sách các số chẵn trong phạm vi từ 1 - 20 - dùng while\n",
    "\n",
    "i = 0\n",
    "while i < 20:\n",
    "    if i % 2 == 0:\n",
    "        print(i)\n",
    "    i += 1\n"
   ]
  },
  {
   "cell_type": "code",
   "execution_count": 7,
   "id": "a145fe5f455522f0",
   "metadata": {
    "jupyter": {
     "is_executing": true
    }
   },
   "outputs": [
    {
     "name": "stdout",
     "output_type": "stream",
     "text": [
      "0\n",
      "2\n",
      "4\n",
      "6\n",
      "8\n",
      "10\n",
      "12\n",
      "14\n",
      "16\n",
      "18\n"
     ]
    }
   ],
   "source": [
    "# Thực hành in ra màn hình danh sách các số chẵn trong phạm vi từ 1 - 20 - dùng while\n",
    "\n",
    "i = 0\n",
    "while i < 20:\n",
    "    if i % 2 == 0:\n",
    "        print(i)\n",
    "    i += 1\n"
   ]
  },
  {
   "cell_type": "code",
   "execution_count": null,
   "id": "268bc977",
   "metadata": {},
   "outputs": [
    {
     "name": "stdout",
     "output_type": "stream",
     "text": [
      "13\n"
     ]
    }
   ],
   "source": [
    "# Tính tổng của danh sách dưới đây với điều kiện index là số chẵn.\n",
    "\n",
    "# GIÁ TRỊ CỦA PHẦN TỬ ĐANG GIỮ INDEX CHẴN NẾU XÉT TỪ TRÁI SANG PHẢI\n",
    "\n",
    "list = [1,3,5,6,7]\n",
    "tong = 0\n",
    "\n",
    "for i in range(0,len(list),2):   #range(0, 5, 2)\n",
    "    tong += list[i]\n",
    "print(tong)\n",
    "\n"
   ]
  },
  {
   "cell_type": "code",
   "execution_count": 10,
   "id": "0e7db438",
   "metadata": {},
   "outputs": [
    {
     "name": "stdout",
     "output_type": "stream",
     "text": [
      "Bút Đen\n",
      "Bút Trắng\n",
      "Thước Đen\n",
      "Thước Trắng\n"
     ]
    }
   ],
   "source": [
    "## Ví dụ 4 : For lồng for\n",
    "Item = ['Bút', 'Thước']\n",
    "Mausac = ['Đen', 'Trắng']\n",
    "for i in Item:\n",
    "  for m in Mausac:\n",
    "    print(i, m)"
   ]
  },
  {
   "cell_type": "code",
   "execution_count": 11,
   "id": "1d3112a8",
   "metadata": {},
   "outputs": [
    {
     "name": "stdout",
     "output_type": "stream",
     "text": [
      "45\n"
     ]
    }
   ],
   "source": [
    "# Ví dụ 5 / For lồng for :\n",
    "list = [ [1,2,3] , [4,5,6] , [7,8,9]]\n",
    "total = 0\n",
    "for i in list:\n",
    "    for num in i:\n",
    "        total += num\n",
    "print(total)"
   ]
  },
  {
   "cell_type": "markdown",
   "id": "f4976025",
   "metadata": {},
   "source": [
    "3.3 TÌM HIỂU VỀ BREAK VÀ CONTINUE"
   ]
  },
  {
   "cell_type": "code",
   "execution_count": 16,
   "id": "88b91f9b",
   "metadata": {},
   "outputs": [
    {
     "name": "stdout",
     "output_type": "stream",
     "text": [
      "Điểm 8: Đạt\n",
      "Điểm 7: Đạt\n",
      "Điểm 6: Đạt\n",
      "Điểm 5: Đạt\n",
      "Điểm 9: Đạt\n",
      "Điểm 10: Đạt\n"
     ]
    }
   ],
   "source": [
    "# Kiểm tra và in danh sách điểm học sinh đạt yêu cầu (điểm >= 5),\n",
    "# bỏ qua các điểm không hợp lệ (điểm < 0 hoặc điểm > 10)\n",
    "# Danh sách điểm của học sinh\n",
    "\n",
    "scores = [8, 3, 7, -1, 6, 12, 5, 9, 4, 10]\n",
    "\n",
    "for i in scores:\n",
    "    if i < 0 or i > 10: # check invalid point\n",
    "        continue # Bỏ qua điểm không hợp lệ, chuyển sang điểm tiếp theo \n",
    "    if i >= 5:\n",
    "        print(f\"Điểm {i}: Đạt\")"
   ]
  },
  {
   "cell_type": "code",
   "execution_count": 19,
   "id": "1db7ef89",
   "metadata": {},
   "outputs": [
    {
     "name": "stdout",
     "output_type": "stream",
     "text": [
      "[2, 4, 6, 8, 10]\n",
      "[3, 5, 7, 9]\n"
     ]
    }
   ],
   "source": [
    "# THỰC HÀNH xây dựng một chương trình cho người dùng nhập vào 2 số n1, n2,\n",
    "# sau đó in ra màn hình 2 danh sách chứa số chẵn , số lẻ nằm giữa 2 số n1, n2 vừa nhập.\n",
    "# Sau khi hoàn thành, bạn hãy thử kiểm tra kết quả với việc nhập n1 = 2, n2 = 10\n",
    "\n",
    "# n1 = 2\n",
    "# n2 = 10\n",
    "\n",
    "# danh sach so chan 2 4 6 8 10\n",
    "# danh sach so le 3 5 7 9\n",
    "\n",
    "n1 = int(input())\n",
    "n2 = int(input())\n",
    "\n",
    "# n1 > n2 if not change place\n",
    "if n1> n2:\n",
    "    n1, n2 = n2, n1\n",
    "\n",
    "# create list odd and even \n",
    "odd = []\n",
    "even = []\n",
    "\n",
    "# loop\n",
    "\n",
    "for i in range(n1, n2 + 1):\n",
    "    if i % 2 == 0:\n",
    "        odd.append(i)\n",
    "    else: \n",
    "        even.append(i)\n",
    "\n",
    "# print\n",
    "print(odd)\n",
    "print(even)"
   ]
  },
  {
   "cell_type": "code",
   "execution_count": 20,
   "id": "7a557a95",
   "metadata": {},
   "outputs": [
    {
     "name": "stdout",
     "output_type": "stream",
     "text": [
      "[2, 4, 6, 8, 10]\n",
      "[3, 5, 7, 9]\n"
     ]
    }
   ],
   "source": [
    "n1 = int(input())\n",
    "n2 = int(input())\n",
    "\n",
    "# checking n1, n2 (n1<=n2)\n",
    "if n1 > n2:\n",
    "    n1, n2 = n2, n1\n",
    "\n",
    "# list odd, even\n",
    "odd = []\n",
    "even =[]\n",
    "\n",
    "# loop with white\n",
    "\n",
    "i = n1\n",
    "while True:\n",
    "    if i > n2:\n",
    "        break # end loop if n1 > n2\n",
    "\n",
    "    if i % 2 == 0:\n",
    "        odd.append(i)\n",
    "        i += 1\n",
    "        continue # skip condition if even\n",
    "    \n",
    "    even.append(i)\n",
    "    i += 1\n",
    "\n",
    "print(odd)\n",
    "print(even)\n",
    "\n"
   ]
  },
  {
   "cell_type": "markdown",
   "id": "75ab5e48",
   "metadata": {},
   "source": [
    "#  4 / Hàm(function)"
   ]
  },
  {
   "cell_type": "code",
   "execution_count": null,
   "id": "55f76fd5",
   "metadata": {},
   "outputs": [],
   "source": [
    "# Định nghĩa : là một khối các câu lệnh thực hiện một nhiệm vụ cụ thể.\n",
    "#  Nó được sinh ra nhằm giúp chúng ta giảm bớt thời gian lặp lại\n",
    "# việc viết khối các câu lệnh được sử dụng nhiều lần\n",
    "# Ví dụ về hàm\n",
    "\n",
    "# Sự khác nhau giữa return và print trong function:\n",
    "# print : chỉ là hiện thị kết quả ra màn hình.\n",
    "# return : được sử dụng để trả về một giá trị từ hàm\n",
    "\n"
   ]
  },
  {
   "cell_type": "code",
   "execution_count": null,
   "id": "0b988511",
   "metadata": {},
   "outputs": [
    {
     "name": "stdout",
     "output_type": "stream",
     "text": [
      "sai mk\n",
      "sai mk\n",
      "sai mk\n"
     ]
    }
   ],
   "source": [
    "# Viết chương trình, người dùng đặt 1 password bất kỳ, sau đó chạy chương trình yêu cầu người nhập phải nhập đúng password\n",
    "# nếu nhập sai sẽ hiện mật khẩu không đúng, nếu nhập đúng sẽ đăng nhập thành công\n",
    "\n",
    "password = input('Dat mk: ')\n",
    "\n",
    "# loop until true\n",
    "while True:\n",
    "    nhap_lai = input('nhap mk: ')\n",
    "\n",
    "    if nhap_lai == password:\n",
    "        print('ok')\n",
    "        break\n",
    "    \n",
    "    else: \n",
    "        print('sai mk')"
   ]
  },
  {
   "cell_type": "markdown",
   "id": "989ed7f8",
   "metadata": {},
   "source": [
    "5.2 Giới thiệu về try - except"
   ]
  },
  {
   "cell_type": "markdown",
   "id": "3accdc30",
   "metadata": {},
   "source": [
    "Vòng lặp while True: Tạo một vòng lặp vô hạn để liên tục yêu cầu nhập liệu cho đến khi dữ liệu hợp lệ.\n",
    "\n",
    "Try-except: Bắt lỗi ValueError khi người dùng nhập dữ liệu không phải số nguyên (ví dụ: \"abc\").\n",
    "\n",
    "Kiểm tra n1 <= n2: Đảm bảo n1 không lớn hơn n2. Nếu đúng, thoát vòng lặp bằng break. Nếu sai, in thông báo lỗi và tiếp tục vòng lặp."
   ]
  },
  {
   "cell_type": "code",
   "execution_count": null,
   "id": "568c099b",
   "metadata": {},
   "outputs": [],
   "source": [
    "# nâng cao, làm cách nào để câu lệnh có thể yêu cầu người dùng nhập lại ngay lập tức khi nhập sai?\n",
    "# Nhập hai số n1 và n2 từ người dùng, đảm bảo n1 <= n2\n",
    "\n",
    "\n",
    "# nhập 2 số n1 và n2\n",
    "# chuyển mình từ fresher sang junior\n",
    "# kiểm tra việc dữ liệu đưa vào phải hợp lệ\n",
    "\n",
    "\n",
    "while True:  # Tạo một vòng lặp vô hạn, sẽ chạy cho đến khi điều kiện thoát (break) được thỏa mãn\n",
    "    try:  # Bắt đầu khối try để xử lý lỗi nếu người dùng nhập dữ liệu không hợp lệ\n",
    "        n1 = int(input(\"Nhập số n1: \"))\n",
    "        n2 = int(input(\"Nhập số n2: \"))\n",
    "        if n1 <= n2:  # Kiểm tra xem n1 có nhỏ hơn hoặc bằng n2 không\n",
    "            break  # Nếu n1 <= n2, thoát khỏi vòng lặp while để tiếp tục chương trình\n",
    "        else:  # Nếu n1 > n2, thực hiện lệnh dưới\n",
    "            print(\"Lỗi: n1 phải nhỏ hơn hoặc bằng n2. Vui lòng nhập lại!\")  # In thông báo lỗi và yêu cầu nhập lại\n",
    "    except ValueError:  # Xử lý lỗi nếu người dùng nhập giá trị không thể chuyển thành số nguyên (ví dụ: chữ, số thập phân)\n",
    "        print(\"Vui lòng nhập số nguyên hợp lệ!\")  # In thông báo lỗi và yêu cầu nhập lại\n",
    "\n",
    "\n",
    "# khởi tạo danh sách số chẵn và số lẻ\n",
    "even_list = []\n",
    "odd_list = []\n",
    "\n",
    "# Duyệt qua từng giá trị từ n1 đến n2, nếu là số chẵn thì thêm vào even_list, nếu là số lẻ thì thêm vào odd_list\n",
    "for num in range(n1, n2 + 1):\n",
    "  if num % 2 == 0:\n",
    "    even_list.append(num)\n",
    "  else:\n",
    "    odd_list.append(num)\n",
    "\n",
    "print(\"danh sách số chẵn\", even_list)\n",
    "print(\"danh sách số lẻ\", odd_list)"
   ]
  }
 ],
 "metadata": {
  "kernelspec": {
   "display_name": "Python 3",
   "language": "python",
   "name": "python3"
  },
  "language_info": {
   "codemirror_mode": {
    "name": "ipython",
    "version": 3
   },
   "file_extension": ".py",
   "mimetype": "text/x-python",
   "name": "python",
   "nbconvert_exporter": "python",
   "pygments_lexer": "ipython3",
   "version": "3.13.3"
  }
 },
 "nbformat": 4,
 "nbformat_minor": 5
}
