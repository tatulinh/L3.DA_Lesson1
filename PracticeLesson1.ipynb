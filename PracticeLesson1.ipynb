{
 "cells": [
  {
   "cell_type": "code",
   "execution_count": 7,
   "id": "09da4055",
   "metadata": {},
   "outputs": [
    {
     "name": "stdout",
     "output_type": "stream",
     "text": [
      "3 6 9 12 15 18 21 24 27 30 33 36 39 42 45 48 51 54 57 60 63 66 69 72 75 78 81 84 87 90 93 96 99 "
     ]
    }
   ],
   "source": [
    "# In ra các số từ 1 đến 100 mà chia hết cho 3\n",
    "for i in range(1, 101):  # bắt đầu từ 1 thay vì 0\n",
    "    if i % 3 == 0:\n",
    "        print(i,end = ' ')\n"
   ]
  },
  {
   "cell_type": "markdown",
   "id": "bba53308",
   "metadata": {},
   "source": [
    "Viết chương trình nhập vào một số nguyên dương N và thực hiện:\n",
    "    Số nguyên dương N có bao nhiêu chữ số? \n",
    "    Tính tổng các chữ số của N. \n",
    "    In ra chữ số lớn nhất của N."
   ]
  },
  {
   "cell_type": "code",
   "execution_count": null,
   "id": "be088414",
   "metadata": {},
   "outputs": [
    {
     "name": "stdout",
     "output_type": "stream",
     "text": [
      "Số 543534654 có 4 chữ số.\n",
      "Tổng các chữ số của 543534654 là: 39\n",
      "Chữ số lớn nhất trong 543534654 là: 6\n"
     ]
    }
   ],
   "source": [
    "n = int(input())\n",
    "\n",
    "# check n<0\n",
    "\n",
    "if n <= 0:\n",
    "    print('N khong hop le')\n",
    "else:\n",
    "    so = len(str(n))   # đếm\n",
    "\n",
    "tong =0\n",
    "so_max = 0\n",
    "\n",
    "for i in str(n):\n",
    "    so = int(i)\n",
    "    tong += so\n",
    "    if so > so_max:\n",
    "        so_max = so\n",
    "\n",
    "\n",
    "print(f\"Số {n} có {so} chữ số.\")\n",
    "print(f\"Tổng các chữ số của {n} là: {tong}\")\n",
    "print(f\"Chữ số lớn nhất trong {n} là: {so_max}\")\n"
   ]
  },
  {
   "cell_type": "markdown",
   "id": "7aca346e",
   "metadata": {},
   "source": [
    "Viết class NhanVien gồm các thuộc tính:\n",
    "+ Tên\n",
    "+ Tuổi\n",
    "+ Địa chỉ\n",
    "+ Tiền lương\n",
    "Và các phương thức: \n",
    "- Phương thức tạo (constructor) \n",
    "- inputInfo() : Nhập các thông tin cho nhân viên từ bàn phím\n",
    "- printInfo() : In ra tất cả các thông tin của nhân viên \n",
    "- ComputeBonus(): Tính toán và trả về số tiền thưởng của nhân viên theo công thức: \n",
    "Nếu tổng số giờ làm của nhân viên >=200 thì thưởng = lương * 20%\n",
    "Nếu tổng số giờ làm của nhân viên <200 và >=100 thì thưởng = lương * 10%\n",
    "Nếu tổng số giờ làm của nhân viên <100 thì thưởng = 0\n"
   ]
  }
 ],
 "metadata": {
  "kernelspec": {
   "display_name": "Python 3",
   "language": "python",
   "name": "python3"
  },
  "language_info": {
   "codemirror_mode": {
    "name": "ipython",
    "version": 3
   },
   "file_extension": ".py",
   "mimetype": "text/x-python",
   "name": "python",
   "nbconvert_exporter": "python",
   "pygments_lexer": "ipython3",
   "version": "3.13.3"
  }
 },
 "nbformat": 4,
 "nbformat_minor": 5
}
